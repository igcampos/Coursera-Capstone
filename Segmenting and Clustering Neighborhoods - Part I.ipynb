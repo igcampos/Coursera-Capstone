{
    "nbformat_minor": 1, 
    "cells": [
        {
            "source": "# Segmenting and Clustering Neighborhoods in Toronto", 
            "cell_type": "markdown", 
            "metadata": {
                "collapsed": true
            }
        }, 
        {
            "source": "The project is devide in three parts. ", 
            "cell_type": "markdown", 
            "metadata": {}
        }, 
        {
            "source": "### Part I -  Web Scraping the data", 
            "cell_type": "markdown", 
            "metadata": {}
        }, 
        {
            "execution_count": 1, 
            "cell_type": "code", 
            "metadata": {}, 
            "outputs": [], 
            "source": "#algorithm from scraping the data from Wikipedia page.\n\nfrom bs4 import BeautifulSoup # Python library for pulling data out of HTML and XML files.\nimport requests\nimport csv\nimport pandas as pd\nimport numpy as np"
        }, 
        {
            "execution_count": 2, 
            "cell_type": "code", 
            "metadata": {}, 
            "outputs": [
                {
                    "output_type": "stream", 
                    "name": "stdout", 
                    "text": "M1A,Not assigned,Not assigned\nM2A,Not assigned,Not assigned\nM3A,North York,Parkwoods\nM4A,North York,Victoria Village\nM5A,Downtown Toronto,Harbourfront\nM5A,Downtown Toronto,Regent Park\nM6A,North York,Lawrence Heights\nM6A,North York,Lawrence Manor\nM7A,Queen's Park,Not assigned\nM8A,Not assigned,Not assigned\nM9A,Etobicoke,Islington Avenue\nM1B,Scarborough,Rouge\nM1B,Scarborough,Malvern\nM2B,Not assigned,Not assigned\nM3B,North York,Don Mills North\nM4B,East York,Woodbine Gardens\nM4B,East York,Parkview Hill\nM5B,Downtown Toronto,Ryerson\nM5B,Downtown Toronto,Garden District\nM6B,North York,Glencairn\nM7B,Not assigned,Not assigned\nM8B,Not assigned,Not assigned\nM9B,Etobicoke,Cloverdale\nM9B,Etobicoke,Islington\nM9B,Etobicoke,Martin Grove\nM9B,Etobicoke,Princess Gardens\nM9B,Etobicoke,West Deane Park\nM1C,Scarborough,Highland Creek\nM1C,Scarborough,Rouge Hill\nM1C,Scarborough,Port Union\nM2C,Not assigned,Not assigned\nM3C,North York,Flemingdon Park\nM3C,North York,Don Mills South\nM4C,East York,Woodbine Heights\nM5C,Downtown Toronto,St. James Town\nM6C,York,Humewood-Cedarvale\nM7C,Not assigned,Not assigned\nM8C,Not assigned,Not assigned\nM9C,Etobicoke,Bloordale Gardens\nM9C,Etobicoke,Eringate\nM9C,Etobicoke,Markland Wood\nM9C,Etobicoke,Old Burnhamthorpe\nM1E,Scarborough,Guildwood\nM1E,Scarborough,Morningside\nM1E,Scarborough,West Hill\nM2E,Not assigned,Not assigned\nM3E,Not assigned,Not assigned\nM4E,East Toronto,The Beaches\nM5E,Downtown Toronto,Berczy Park\nM6E,York,Caledonia-Fairbanks\nM7E,Not assigned,Not assigned\nM8E,Not assigned,Not assigned\nM9E,Not assigned,Not assigned\nM1G,Scarborough,Woburn\nM2G,Not assigned,Not assigned\nM3G,Not assigned,Not assigned\nM4G,East York,Leaside\nM5G,Downtown Toronto,Central Bay Street\nM6G,Downtown Toronto,Christie\nM7G,Not assigned,Not assigned\nM8G,Not assigned,Not assigned\nM9G,Not assigned,Not assigned\nM1H,Scarborough,Cedarbrae\nM2H,North York,Hillcrest Village\nM3H,North York,Bathurst Manor\nM3H,North York,Downsview North\nM3H,North York,Wilson Heights\nM4H,East York,Thorncliffe Park\nM5H,Downtown Toronto,Adelaide\nM5H,Downtown Toronto,King\nM5H,Downtown Toronto,Richmond\nM6H,West Toronto,Dovercourt Village\nM6H,West Toronto,Dufferin\nM7H,Not assigned,Not assigned\nM8H,Not assigned,Not assigned\nM9H,Not assigned,Not assigned\nM1J,Scarborough,Scarborough Village\nM2J,North York,Fairview\nM2J,North York,Henry Farm\nM2J,North York,Oriole\nM3J,North York,Northwood Park\nM3J,North York,York University\nM4J,East York,East Toronto\nM5J,Downtown Toronto,Harbourfront East\nM5J,Downtown Toronto,Toronto Islands\nM5J,Downtown Toronto,Union Station\nM6J,West Toronto,Little Portugal\nM6J,West Toronto,Trinity\nM7J,Not assigned,Not assigned\nM8J,Not assigned,Not assigned\nM9J,Not assigned,Not assigned\nM1K,Scarborough,East Birchmount Park\nM1K,Scarborough,Ionview\nM1K,Scarborough,Kennedy Park\nM2K,North York,Bayview Village\nM3K,North York,CFB Toronto\nM3K,North York,Downsview East\nM4K,East Toronto,The Danforth West\nM4K,East Toronto,Riverdale\nM5K,Downtown Toronto,Design Exchange\nM5K,Downtown Toronto,Toronto Dominion Centre\nM6K,West Toronto,Brockton\nM6K,West Toronto,Exhibition Place\nM6K,West Toronto,Parkdale Village\nM7K,Not assigned,Not assigned\nM8K,Not assigned,Not assigned\nM9K,Not assigned,Not assigned\nM1L,Scarborough,Clairlea\nM1L,Scarborough,Golden Mile\nM1L,Scarborough,Oakridge\nM2L,North York,Silver Hills\nM2L,North York,York Mills\nM3L,North York,Downsview West\nM4L,East Toronto,The Beaches West\nM4L,East Toronto,India Bazaar\nM5L,Downtown Toronto,Commerce Court\nM5L,Downtown Toronto,Victoria Hotel\nM6L,North York,Downsview\nM6L,North York,North Park\nM6L,North York,Upwood Park\nM7L,Not assigned,Not assigned\nM8L,Not assigned,Not assigned\nM9L,North York,Humber Summit\nM1M,Scarborough,Cliffcrest\nM1M,Scarborough,Cliffside\nM1M,Scarborough,Scarborough Village West\nM2M,North York,Newtonbrook\nM2M,North York,Willowdale\nM3M,North York,Downsview Central\nM4M,East Toronto,Studio District\nM5M,North York,Bedford Park\nM5M,North York,Lawrence Manor East\nM6M,York,Del Ray\nM6M,York,Keelesdale\nM6M,York,Mount Dennis\nM6M,York,Silverthorn\nM7M,Not assigned,Not assigned\nM8M,Not assigned,Not assigned\nM9M,North York,Emery\nM9M,North York,Humberlea\nM1N,Scarborough,Birch Cliff\nM1N,Scarborough,Cliffside West\nM2N,North York,Willowdale South\nM3N,North York,Downsview Northwest\nM4N,Central Toronto,Lawrence Park\nM5N,Central Toronto,Roselawn\nM6N,York,The Junction North\nM6N,York,Runnymede\nM7N,Not assigned,Not assigned\nM8N,Not assigned,Not assigned\nM9N,York,Weston\nM1P,Scarborough,Dorset Park\nM1P,Scarborough,Scarborough Town Centre\nM1P,Scarborough,Wexford Heights\nM2P,North York,York Mills West\nM3P,Not assigned,Not assigned\nM4P,Central Toronto,Davisville North\nM5P,Central Toronto,Forest Hill North\nM5P,Central Toronto,Forest Hill West\nM6P,West Toronto,High Park\nM6P,West Toronto,The Junction South\nM7P,Not assigned,Not assigned\nM8P,Not assigned,Not assigned\nM9P,Etobicoke,Westmount\nM1R,Scarborough,Maryvale\nM1R,Scarborough,Wexford\nM2R,North York,Willowdale West\nM3R,Not assigned,Not assigned\nM4R,Central Toronto,North Toronto West\nM5R,Central Toronto,The Annex\nM5R,Central Toronto,North Midtown\nM5R,Central Toronto,Yorkville\nM6R,West Toronto,Parkdale\nM6R,West Toronto,Roncesvalles\nM7R,Mississauga,Canada Post Gateway Processing Centre\nM8R,Not assigned,Not assigned\nM9R,Etobicoke,Kingsview Village\nM9R,Etobicoke,Martin Grove Gardens\nM9R,Etobicoke,Richview Gardens\nM9R,Etobicoke,St. Phillips\nM1S,Scarborough,Agincourt\nM2S,Not assigned,Not assigned\nM3S,Not assigned,Not assigned\nM4S,Central Toronto,Davisville\nM5S,Downtown Toronto,Harbord\nM5S,Downtown Toronto,University of Toronto\nM6S,West Toronto,Runnymede\nM6S,West Toronto,Swansea\nM7S,Not assigned,Not assigned\nM8S,Not assigned,Not assigned\nM9S,Not assigned,Not assigned\nM1T,Scarborough,Clarks Corners\nM1T,Scarborough,Sullivan\nM1T,Scarborough,Tam O'Shanter\nM2T,Not assigned,Not assigned\nM3T,Not assigned,Not assigned\nM4T,Central Toronto,Moore Park\nM4T,Central Toronto,Summerhill East\nM5T,Downtown Toronto,Chinatown\nM5T,Downtown Toronto,Grange Park\nM5T,Downtown Toronto,Kensington Market\nM6T,Not assigned,Not assigned\nM7T,Not assigned,Not assigned\nM8T,Not assigned,Not assigned\nM9T,Not assigned,Not assigned\nM1V,Scarborough,Agincourt North\nM1V,Scarborough,L'Amoreaux East\nM1V,Scarborough,Milliken\nM1V,Scarborough,Steeles East\nM2V,Not assigned,Not assigned\nM3V,Not assigned,Not assigned\nM4V,Central Toronto,Deer Park\nM4V,Central Toronto,Forest Hill SE\nM4V,Central Toronto,Rathnelly\nM4V,Central Toronto,South Hill\nM4V,Central Toronto,Summerhill West\nM5V,Downtown Toronto,CN Tower\nM5V,Downtown Toronto,Bathurst Quay\nM5V,Downtown Toronto,Island airport\nM5V,Downtown Toronto,Harbourfront West\nM5V,Downtown Toronto,King and Spadina\nM5V,Downtown Toronto,Railway Lands\nM5V,Downtown Toronto,South Niagara\nM6V,Not assigned,Not assigned\nM7V,Not assigned,Not assigned\nM8V,Etobicoke,Humber Bay Shores\nM8V,Etobicoke,Mimico South\nM8V,Etobicoke,New Toronto\nM9V,Etobicoke,Albion Gardens\nM9V,Etobicoke,Beaumond Heights\nM9V,Etobicoke,Humbergate\nM9V,Etobicoke,Jamestown\nM9V,Etobicoke,Mount Olive\nM9V,Etobicoke,Silverstone\nM9V,Etobicoke,South Steeles\nM9V,Etobicoke,Thistletown\nM1W,Scarborough,L'Amoreaux West\nM2W,Not assigned,Not assigned\nM3W,Not assigned,Not assigned\nM4W,Downtown Toronto,Rosedale\nM5W,Downtown Toronto,Stn A PO Boxes 25 The Esplanade\nM6W,Not assigned,Not assigned\nM7W,Not assigned,Not assigned\nM8W,Etobicoke,Alderwood\nM8W,Etobicoke,Long Branch\nM9W,Etobicoke,Northwest\nM1X,Scarborough,Upper Rouge\nM2X,Not assigned,Not assigned\nM3X,Not assigned,Not assigned\nM4X,Downtown Toronto,Cabbagetown\nM4X,Downtown Toronto,St. James Town\nM5X,Downtown Toronto,First Canadian Place\nM5X,Downtown Toronto,Underground city\nM6X,Not assigned,Not assigned\nM7X,Not assigned,Not assigned\nM8X,Etobicoke,The Kingsway\nM8X,Etobicoke,Montgomery Road\nM8X,Etobicoke,Old Mill North\nM9X,Not assigned,Not assigned\nM1Y,Not assigned,Not assigned\nM2Y,Not assigned,Not assigned\nM3Y,Not assigned,Not assigned\nM4Y,Downtown Toronto,Church and Wellesley\nM5Y,Not assigned,Not assigned\nM6Y,Not assigned,Not assigned\nM7Y,East Toronto,Business Reply Mail Processing Centre 969 Eastern\nM8Y,Etobicoke,Humber Bay\nM8Y,Etobicoke,King's Mill Park\nM8Y,Etobicoke,Kingsway Park South East\nM8Y,Etobicoke,Mimico NE\nM8Y,Etobicoke,Old Mill South\nM8Y,Etobicoke,The Queensway East\nM8Y,Etobicoke,Royal York South East\nM8Y,Etobicoke,Sunnylea\nM9Y,Not assigned,Not assigned\nM1Z,Not assigned,Not assigned\nM2Z,Not assigned,Not assigned\nM3Z,Not assigned,Not assigned\nM4Z,Not assigned,Not assigned\nM5Z,Not assigned,Not assigned\nM6Z,Not assigned,Not assigned\nM7Z,Not assigned,Not assigned\nM8Z,Etobicoke,Kingsway Park South West\nM8Z,Etobicoke,Mimico NW\nM8Z,Etobicoke,The Queensway West\nM8Z,Etobicoke,Royal York South West\nM8Z,Etobicoke,South of Bloor\nM9Z,Not assigned,Not assigned\n\n"
                }
            ], 
            "source": "source = requests.get('https://en.wikipedia.org/wiki/List_of_postal_codes_of_Canada:_M').text\nsoup = BeautifulSoup(source, 'lxml')\n\n\ncsv_file = open('Neibor_toronto.csv', 'w')\ncsv_writer = csv.writer(csv_file)\n\ncell = \"\"\ntable = soup.find('table', class_='wikitable sortable')\nfor row in table.find_all('tr'):\n    data = \"\"\n    for element in row.find_all('td'):\n        data = data +\",\"+ element.text \n    cell = cell + data[1:]\n       \n\nprint(cell)"
        }, 
        {
            "execution_count": 3, 
            "cell_type": "code", 
            "metadata": {}, 
            "outputs": [
                {
                    "execution_count": 3, 
                    "metadata": {}, 
                    "data": {
                        "text/plain": "8738"
                    }, 
                    "output_type": "execute_result"
                }
            ], 
            "source": "# Writing our data in a csv file\ncsv_file = open('Neibor_toronto.csv', 'wb')\ncsv_file.write(bytes(cell,encoding=\"ascii\",errors=\"ignore\"))"
        }, 
        {
            "execution_count": 4, 
            "cell_type": "code", 
            "metadata": {}, 
            "outputs": [
                {
                    "execution_count": 4, 
                    "metadata": {}, 
                    "data": {
                        "text/html": "<div>\n<style scoped>\n    .dataframe tbody tr th:only-of-type {\n        vertical-align: middle;\n    }\n\n    .dataframe tbody tr th {\n        vertical-align: top;\n    }\n\n    .dataframe thead th {\n        text-align: right;\n    }\n</style>\n<table border=\"1\" class=\"dataframe\">\n  <thead>\n    <tr style=\"text-align: right;\">\n      <th></th>\n      <th>PostalCode</th>\n      <th>Borough</th>\n      <th>Neighborhood</th>\n    </tr>\n  </thead>\n  <tbody>\n    <tr>\n      <th>0</th>\n      <td>M1A</td>\n      <td>Not assigned</td>\n      <td>Not assigned</td>\n    </tr>\n    <tr>\n      <th>1</th>\n      <td>M2A</td>\n      <td>Not assigned</td>\n      <td>Not assigned</td>\n    </tr>\n    <tr>\n      <th>2</th>\n      <td>M3A</td>\n      <td>North York</td>\n      <td>Parkwoods</td>\n    </tr>\n    <tr>\n      <th>3</th>\n      <td>M4A</td>\n      <td>North York</td>\n      <td>Victoria Village</td>\n    </tr>\n    <tr>\n      <th>4</th>\n      <td>M5A</td>\n      <td>Downtown Toronto</td>\n      <td>Harbourfront</td>\n    </tr>\n    <tr>\n      <th>5</th>\n      <td>M5A</td>\n      <td>Downtown Toronto</td>\n      <td>Regent Park</td>\n    </tr>\n    <tr>\n      <th>6</th>\n      <td>M6A</td>\n      <td>North York</td>\n      <td>Lawrence Heights</td>\n    </tr>\n    <tr>\n      <th>7</th>\n      <td>M6A</td>\n      <td>North York</td>\n      <td>Lawrence Manor</td>\n    </tr>\n    <tr>\n      <th>8</th>\n      <td>M7A</td>\n      <td>Queen's Park</td>\n      <td>Not assigned</td>\n    </tr>\n    <tr>\n      <th>9</th>\n      <td>M8A</td>\n      <td>Not assigned</td>\n      <td>Not assigned</td>\n    </tr>\n  </tbody>\n</table>\n</div>", 
                        "text/plain": "  PostalCode           Borough      Neighborhood\n0        M1A      Not assigned      Not assigned\n1        M2A      Not assigned      Not assigned\n2        M3A        North York         Parkwoods\n3        M4A        North York  Victoria Village\n4        M5A  Downtown Toronto      Harbourfront\n5        M5A  Downtown Toronto       Regent Park\n6        M6A        North York  Lawrence Heights\n7        M6A        North York    Lawrence Manor\n8        M7A      Queen's Park      Not assigned\n9        M8A      Not assigned      Not assigned"
                    }, 
                    "output_type": "execute_result"
                }
            ], 
            "source": "# read the data\n\ndf = pd.read_csv('Neibor_toronto.csv', header = None)\ndf.columns = [\"PostalCode\", \"Borough\", \"Neighborhood\"]\ndf.head(10)"
        }, 
        {
            "execution_count": 5, 
            "cell_type": "code", 
            "metadata": {}, 
            "outputs": [
                {
                    "execution_count": 5, 
                    "metadata": {}, 
                    "data": {
                        "text/html": "<div>\n<style scoped>\n    .dataframe tbody tr th:only-of-type {\n        vertical-align: middle;\n    }\n\n    .dataframe tbody tr th {\n        vertical-align: top;\n    }\n\n    .dataframe thead th {\n        text-align: right;\n    }\n</style>\n<table border=\"1\" class=\"dataframe\">\n  <thead>\n    <tr style=\"text-align: right;\">\n      <th></th>\n      <th>PostalCode</th>\n      <th>Borough</th>\n      <th>Neighborhood</th>\n    </tr>\n  </thead>\n  <tbody>\n    <tr>\n      <th>283</th>\n      <td>M8Z</td>\n      <td>Etobicoke</td>\n      <td>Mimico NW</td>\n    </tr>\n    <tr>\n      <th>284</th>\n      <td>M8Z</td>\n      <td>Etobicoke</td>\n      <td>The Queensway West</td>\n    </tr>\n    <tr>\n      <th>285</th>\n      <td>M8Z</td>\n      <td>Etobicoke</td>\n      <td>Royal York South West</td>\n    </tr>\n    <tr>\n      <th>286</th>\n      <td>M8Z</td>\n      <td>Etobicoke</td>\n      <td>South of Bloor</td>\n    </tr>\n    <tr>\n      <th>287</th>\n      <td>M9Z</td>\n      <td>Not assigned</td>\n      <td>Not assigned</td>\n    </tr>\n  </tbody>\n</table>\n</div>", 
                        "text/plain": "    PostalCode       Borough           Neighborhood\n283        M8Z     Etobicoke              Mimico NW\n284        M8Z     Etobicoke     The Queensway West\n285        M8Z     Etobicoke  Royal York South West\n286        M8Z     Etobicoke         South of Bloor\n287        M9Z  Not assigned           Not assigned"
                    }, 
                    "output_type": "execute_result"
                }
            ], 
            "source": "df.tail()"
        }, 
        {
            "execution_count": 8, 
            "cell_type": "code", 
            "metadata": {}, 
            "outputs": [
                {
                    "execution_count": 8, 
                    "metadata": {}, 
                    "data": {
                        "text/html": "<div>\n<style scoped>\n    .dataframe tbody tr th:only-of-type {\n        vertical-align: middle;\n    }\n\n    .dataframe tbody tr th {\n        vertical-align: top;\n    }\n\n    .dataframe thead th {\n        text-align: right;\n    }\n</style>\n<table border=\"1\" class=\"dataframe\">\n  <thead>\n    <tr style=\"text-align: right;\">\n      <th></th>\n      <th>PostalCode</th>\n      <th>Borough</th>\n      <th>Neighborhood</th>\n    </tr>\n  </thead>\n  <tbody>\n    <tr>\n      <th>0</th>\n      <td>M3A</td>\n      <td>North York</td>\n      <td>Parkwoods</td>\n    </tr>\n    <tr>\n      <th>1</th>\n      <td>M4A</td>\n      <td>North York</td>\n      <td>Victoria Village</td>\n    </tr>\n    <tr>\n      <th>2</th>\n      <td>M5A</td>\n      <td>Downtown Toronto</td>\n      <td>Harbourfront,Regent Park</td>\n    </tr>\n    <tr>\n      <th>3</th>\n      <td>M6A</td>\n      <td>North York</td>\n      <td>Lawrence Heights,Lawrence Manor</td>\n    </tr>\n    <tr>\n      <th>4</th>\n      <td>M7A</td>\n      <td>Queen's Park</td>\n      <td>Queen's Park</td>\n    </tr>\n    <tr>\n      <th>5</th>\n      <td>M9A</td>\n      <td>Etobicoke</td>\n      <td>Islington Avenue</td>\n    </tr>\n    <tr>\n      <th>6</th>\n      <td>M1B</td>\n      <td>Scarborough</td>\n      <td>Rouge,Malvern</td>\n    </tr>\n    <tr>\n      <th>7</th>\n      <td>M3B</td>\n      <td>North York</td>\n      <td>Don Mills North</td>\n    </tr>\n    <tr>\n      <th>8</th>\n      <td>M4B</td>\n      <td>East York</td>\n      <td>Woodbine Gardens,Parkview Hill</td>\n    </tr>\n    <tr>\n      <th>9</th>\n      <td>M5B</td>\n      <td>Downtown Toronto</td>\n      <td>Ryerson,Garden District</td>\n    </tr>\n    <tr>\n      <th>10</th>\n      <td>M6B</td>\n      <td>North York</td>\n      <td>Glencairn</td>\n    </tr>\n    <tr>\n      <th>11</th>\n      <td>M9B</td>\n      <td>Etobicoke</td>\n      <td>Cloverdale,Islington,Martin Grove,Princess Gar...</td>\n    </tr>\n  </tbody>\n</table>\n</div>", 
                        "text/plain": "   PostalCode           Borough  \\\n0         M3A        North York   \n1         M4A        North York   \n2         M5A  Downtown Toronto   \n3         M6A        North York   \n4         M7A      Queen's Park   \n5         M9A         Etobicoke   \n6         M1B       Scarborough   \n7         M3B        North York   \n8         M4B         East York   \n9         M5B  Downtown Toronto   \n10        M6B        North York   \n11        M9B         Etobicoke   \n\n                                         Neighborhood  \n0                                           Parkwoods  \n1                                    Victoria Village  \n2                            Harbourfront,Regent Park  \n3                     Lawrence Heights,Lawrence Manor  \n4                                        Queen's Park  \n5                                    Islington Avenue  \n6                                       Rouge,Malvern  \n7                                     Don Mills North  \n8                      Woodbine Gardens,Parkview Hill  \n9                             Ryerson,Garden District  \n10                                          Glencairn  \n11  Cloverdale,Islington,Martin Grove,Princess Gar...  "
                    }, 
                    "output_type": "execute_result"
                }
            ], 
            "source": "# Drop cells with a borough that is Not assigned.\nindex = df[df['Borough'] == 'Not assigned'].index\ndf.drop(index, axis=0, inplace=True)\n\n# If a cell has a borough but a Not assigned neighborhood, then the neighborhood will be the same as the borough.\ndf.loc[df['Neighborhood'] == 'Not assigned', 'Neighborhood'] = df['Borough']\n\n# More than one neighborhood can exist in one postal code area.\njoin_table = df.groupby(['PostalCode', 'Borough'], sort=False).agg(','.join)\nfinal_table = join_table.reset_index()\nfinal_table.head(12)"
        }, 
        {
            "execution_count": 7, 
            "cell_type": "code", 
            "metadata": {}, 
            "outputs": [
                {
                    "execution_count": 7, 
                    "metadata": {}, 
                    "data": {
                        "text/plain": "(103, 3)"
                    }, 
                    "output_type": "execute_result"
                }
            ], 
            "source": "final_table.shape"
        }
    ], 
    "metadata": {
        "kernelspec": {
            "display_name": "Python 3.5", 
            "name": "python3", 
            "language": "python"
        }, 
        "language_info": {
            "mimetype": "text/x-python", 
            "nbconvert_exporter": "python", 
            "version": "3.5.5", 
            "name": "python", 
            "file_extension": ".py", 
            "pygments_lexer": "ipython3", 
            "codemirror_mode": {
                "version": 3, 
                "name": "ipython"
            }
        }
    }, 
    "nbformat": 4
}